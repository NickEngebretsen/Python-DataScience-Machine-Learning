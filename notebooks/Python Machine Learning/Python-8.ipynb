{
 "cells": [
  {
   "cell_type": "markdown",
   "metadata": {},
   "source": [
    "# Python 8: Visualization using Histograms \n",
    "## ECE 204 Data Science & Engineering"
   ]
  },
  {
   "cell_type": "markdown",
   "metadata": {},
   "source": [
    "### Lecture Notes"
   ]
  },
  {
   "cell_type": "code",
   "execution_count": null,
   "metadata": {},
   "outputs": [],
   "source": []
  },
  {
   "cell_type": "markdown",
   "metadata": {},
   "source": [
    "### In-Class Activity"
   ]
  },
  {
   "cell_type": "markdown",
   "metadata": {},
   "source": [
    "We have a dataset (__\"Scores.csv\"__) containing scores of 1,000 students on a test. The minimum score possible is 0 and the maximum is 70. The dataset contains only one column, i.e. \"Scores\"."
   ]
  },
  {
   "cell_type": "code",
   "execution_count": null,
   "metadata": {},
   "outputs": [],
   "source": [
    "### Replace this line with required import statement(s) ###\n",
    "\n",
    "df1 = pd.read_csv(\"Scores.csv\")\n",
    "df1.head()"
   ]
  },
  {
   "cell_type": "markdown",
   "metadata": {},
   "source": [
    "---\n",
    "**Problem 1.** Visualize the distribution of scores using a histogram. Choose an appropriate bin size, title and labels. <br>**Question:** What does the shape of the histogram look like?"
   ]
  },
  {
   "cell_type": "code",
   "execution_count": null,
   "metadata": {},
   "outputs": [],
   "source": [
    "# Insert your code for Problem 1 here"
   ]
  },
  {
   "cell_type": "markdown",
   "metadata": {},
   "source": [
    "---\n",
    "**Problem 2.** Suppose you want to divide the scores into 3 letter grades 'A', 'B', and 'C'. We want A's to be scores of 50 or higher, C's to be scores less than 20, and B's to be everything else. Create a histogram with three bins, one for each of the letter grades. <br>**Question:** What is the approximate count of scores that are to be assigned the grade B? <br> **Hint:** Remember that you can customize bin boundaries!"
   ]
  },
  {
   "cell_type": "code",
   "execution_count": null,
   "metadata": {},
   "outputs": [],
   "source": [
    "# Insert your code for Problem 2 here"
   ]
  },
  {
   "cell_type": "markdown",
   "metadata": {},
   "source": [
    "---\n",
    "**Problem 3.** Now, let's say we want to assign letter grades a bit differently. Instead of the rule mentioned in Problem 2, we decide that the highest 300 scores get assigned an 'A', the middle 400 scores get a 'B' and the lowest 300 scores get a 'C'. <br>\n",
    "Create a Pandas DataFrame containing two columns: <br>\n",
    "1. `'Scores'`: The sorted (ascending) 1000 scores from the above defined dataset. **Hint:** The `sorted()` function can be used on a `pd.Series object`. You can also use the `pd.Series.sort_values()` method<br>\n",
    "2. `'Grade'`: Letter Grades assigned according to the rule given above"
   ]
  },
  {
   "cell_type": "code",
   "execution_count": null,
   "metadata": {},
   "outputs": [],
   "source": [
    "LetterGrade = ['C']*300 + ['B']*400 + ['A']*300   # Letter grade list for convenience"
   ]
  },
  {
   "cell_type": "markdown",
   "metadata": {},
   "source": [
    "Using this new DataFrame, Plot histograms of scores for each letter grade separately. You should have three histograms, one each for scores with Grade A, scores with Grade B, and scores with Grade C. <br> <br>**Question:** What does the shape of histogram for Grade 'C' Scores look like?"
   ]
  },
  {
   "cell_type": "code",
   "execution_count": null,
   "metadata": {},
   "outputs": [],
   "source": [
    "# Insert your code for Problem 3 here."
   ]
  },
  {
   "cell_type": "markdown",
   "metadata": {},
   "source": [
    "**Problem 4.** Please use the `df2` DataFrame below to answer the following question."
   ]
  },
  {
   "cell_type": "code",
   "execution_count": null,
   "metadata": {},
   "outputs": [],
   "source": [
    "x = [-62, 162, 119, -169, 165, -32, 13, 182, -173, 57, 94, 113, -177, 115, -199, -159, 8, 123, 65, 50, -109, -179, -18, 32, 63, 135, 97, 199, -133, 149, -87, -42, 36, 21, 31, 4, 148, 12, -185, -53, 37, -36, 158, -154, -114, -180, 59, 118, 88, 110, -102, 24, -181, 82, 52, -132, -122, 188, -51, 38, 128, 42, -143, 29, -142, 71, 146, -40, -47, -176, -113, 173, -121, -43, 143, 46, 51, -27, 23, -26, -141, 75, -98, -30, 5, 144, -148, 26, -193, 167, -15, 145, 58, -1, -89, -34, 125, -184, 139, 107]\n",
    "y = [-157, 69, -15, -164, 187, 128, 137, 171, -64, 33, 28, -129, 143, 106, -57, -189, -106, 131, -85, 142, -116, 163, 68, -32, 199, -190, 105, -198, -68, 53, 91, 63, 112, -6, -193, -52, -83, -3, 20, -56, -134, -87, -158, -130, -137, 104, 152, -146, 174, -111, 85, 162, -77, 81, 26, -82, 170, 153, 136, -13, -180, -30, 139, 58, -127, -88, 188, 86, -168, 41, -76, 82, 144, 155, -196, -1, 17, -95, -179, 178, 9, -67, 133, -58, -48, 149, -65, 45, 192, 191, -55, -4, 87, -165, -7, 71, -103, 51, -74, -105]\n",
    "df2 = pd.DataFrame(y, columns=[\"y\"], index=x)"
   ]
  },
  {
   "cell_type": "markdown",
   "metadata": {},
   "source": [
    "**Question.** What value should `label_location` be so that the code in the cell below returns True?"
   ]
  },
  {
   "cell_type": "code",
   "execution_count": null,
   "metadata": {},
   "outputs": [],
   "source": [
    "integer_location = # Insert your integer location index from Canvas here.\n",
    "label_location =   # Insert your label location index here.\n",
    "\n",
    "df2.iloc[integer_location] == df2.loc[label_location]"
   ]
  }
 ],
 "metadata": {
  "kernelspec": {
   "display_name": "Python 3",
   "language": "python",
   "name": "python3"
  },
  "language_info": {
   "codemirror_mode": {
    "name": "ipython",
    "version": 3
   },
   "file_extension": ".py",
   "mimetype": "text/x-python",
   "name": "python",
   "nbconvert_exporter": "python",
   "pygments_lexer": "ipython3",
   "version": "3.6.9"
  }
 },
 "nbformat": 4,
 "nbformat_minor": 4
}
