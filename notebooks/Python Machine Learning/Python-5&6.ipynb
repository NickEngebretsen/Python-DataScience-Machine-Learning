{
 "cells": [
  {
   "cell_type": "markdown",
   "metadata": {},
   "source": [
    "# ECE 204 Data Science & Engineering: Python 5 & 6"
   ]
  },
  {
   "cell_type": "markdown",
   "metadata": {},
   "source": [
    "## Python 5:  Dictionaries and Series\n",
    "### In-Class Activity Item I"
   ]
  },
  {
   "cell_type": "markdown",
   "metadata": {},
   "source": [
    "Here are the number of males and females (in millions) over the age of 18 in each state. Find the total number of people over the age of 18 in each state:"
   ]
  },
  {
   "cell_type": "code",
   "execution_count": null,
   "metadata": {},
   "outputs": [],
   "source": [
    "males = {'CA': 15.9, 'TX': 11.68, 'NY': 7.86, 'FL': 8.55, 'PA': 5.09, 'IL': 5.14, 'OH': 4.66, 'GA': 4.33, 'MN': 2.32, 'WI': 2.3, 'OR': 1.72, 'MI': 4.01}\n",
    "females = {'IL': 5.02, 'OH': 4.7, 'CA': 15.78, 'TX': 11.28, 'NY': 7.74, 'FL': 8.49, 'PA': 5.15, 'GA': 4.07, 'MN': 2.16, 'WI': 2.34, 'OR': 1.64, 'MD': 3.99}"
   ]
  },
  {
   "cell_type": "code",
   "execution_count": null,
   "metadata": {},
   "outputs": [],
   "source": [
    "import pandas as pd\n",
    "\n"
   ]
  },
  {
   "cell_type": "markdown",
   "metadata": {},
   "source": [
    "## Python 6: Pandas DataFrames\n",
    "### In-Class Activity Item II"
   ]
  },
  {
   "cell_type": "code",
   "execution_count": null,
   "metadata": {},
   "outputs": [],
   "source": [
    "x = [-14, -12, 5, 44, -24, -27, -15, 38, 7, -48, -38, 10, -22, 25, 42, 15, 24, -1, -29, -47, 21, 3, 26, 39, 9, 47, 16, 31, 20, -4, 6, -35, -41, 2, -34, -36, -49, 41, -26, -30, 17, 40, 36, 28, 32, 34, 45, -3, -42, -43, -50, -19, 22, -17, 27, 14, -39, 19, -6, -5, -46, 11, -40, -8, 13, 0, -13, -10, 29, 12, -44, -23, -45, 46, 37, -7, 33, 18, -37, 35, -31, -16, -25, 4, -33, 48, -11, -2, -9, 30, -21, 1, -20, 49, -18, 23, 8, -32, 43, -28]\n",
    "y1 = [ 53,  26,  19, 138,  10, 119, 180, 118,  82, 105, 144, 161, 130, 142, 180,   7,  71, 162,  16, 149,  52,  10, 141,  88, 130, 6, 137, 154, 184, 198, 192, 152, 125, 179, 152,  63,  35,  51,  43, 136, 118, 127,  27, 133, 126,  60, 195,   8,  65,   5, 103,  89, 136,  24,  16,  81, 165, 141, 147, 102,  42, 166,  87, 118,  72, 161,  13,  26,  67,  93, 142, 171, 162,   8,  72,  51,  83,  79, 51,  23,  59,  29, 171,  52,  28, 170, 170,  78,   1,   2,  48, 184, 124,  95,   1, 144, 159,  72, 190,  94]\n",
    "y2 = [ 92, -23, 236,  -9, 123, -16, 114, 242,  95, 152,  47,  30, 200, 86, 237,  44, 186,  90, 242,  15, -18, -14,  48, 193,  54,  74, 137,  60,  26, -19, 216,  54, 117, -23, 232, 146, 126, -13,  75, 4,  60,  76, 228,  28, 206,   7, 121, 199, 149,  32, 186, 186, 124, 233, 168,  -2, 111, 214, 224, 111, 114, -21,  95,  61, 155, 101, 210,   4, -28,  45,  70, 228,   8, 147,  59, 236, 140, 193, 240, 160, 117, 174,  36,  83, 159,  60,  21,  74, 181, -10, 174, 175,  83,   1, 132,  88, -18, -11, 155, -27]"
   ]
  },
  {
   "cell_type": "markdown",
   "metadata": {},
   "source": [
    "Create a Pandas DataFrame out of the `y1` and `y2` lists, using `x` as the index:"
   ]
  },
  {
   "cell_type": "code",
   "execution_count": null,
   "metadata": {},
   "outputs": [],
   "source": [
    "import pandas as pd\n",
    "\n"
   ]
  },
  {
   "cell_type": "markdown",
   "metadata": {},
   "source": [
    "Index the created DataFrame to get the values of `y1` and `y2` that correspond to `x` taking on a particular value:"
   ]
  },
  {
   "cell_type": "code",
   "execution_count": null,
   "metadata": {},
   "outputs": [],
   "source": []
  },
  {
   "cell_type": "markdown",
   "metadata": {},
   "source": [
    "Find the mean value of `y1` and `y2`."
   ]
  },
  {
   "cell_type": "code",
   "execution_count": null,
   "metadata": {},
   "outputs": [],
   "source": []
  },
  {
   "cell_type": "markdown",
   "metadata": {},
   "source": [
    "Find the median value of `y1` and `y2`."
   ]
  },
  {
   "cell_type": "code",
   "execution_count": null,
   "metadata": {},
   "outputs": [],
   "source": []
  }
 ],
 "metadata": {
  "kernelspec": {
   "display_name": "Python 3",
   "language": "python",
   "name": "python3"
  },
  "language_info": {
   "codemirror_mode": {
    "name": "ipython",
    "version": 3
   },
   "file_extension": ".py",
   "mimetype": "text/x-python",
   "name": "python",
   "nbconvert_exporter": "python",
   "pygments_lexer": "ipython3",
   "version": "3.8.5"
  }
 },
 "nbformat": 4,
 "nbformat_minor": 2
}
