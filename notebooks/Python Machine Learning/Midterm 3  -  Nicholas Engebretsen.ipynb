{
 "cells": [
  {
   "cell_type": "code",
   "execution_count": 83,
   "id": "792caf44",
   "metadata": {},
   "outputs": [],
   "source": [
    "#MIDTERM 3 12/2/2021\n",
    "#Nicholas Engebretsen\n",
    "#Couldn't get default notebook to work\n",
    "#Heres my code...\n"
   ]
  },
  {
   "cell_type": "code",
   "execution_count": 84,
   "id": "70d5426d",
   "metadata": {},
   "outputs": [],
   "source": [
    "import pandas as pd\n",
    "from sklearn.model_selection import train_test_split\n",
    "from sklearn.tree import DecisionTreeClassifier\n",
    "from sklearn.model_selection import cross_val_score\n",
    "from sklearn.preprocessing import PolynomialFeatures\n",
    "from sklearn.linear_model import LinearRegression"
   ]
  },
  {
   "cell_type": "code",
   "execution_count": 85,
   "id": "ee99adb4",
   "metadata": {},
   "outputs": [
    {
     "data": {
      "text/html": [
       "<div>\n",
       "<style scoped>\n",
       "    .dataframe tbody tr th:only-of-type {\n",
       "        vertical-align: middle;\n",
       "    }\n",
       "\n",
       "    .dataframe tbody tr th {\n",
       "        vertical-align: top;\n",
       "    }\n",
       "\n",
       "    .dataframe thead th {\n",
       "        text-align: right;\n",
       "    }\n",
       "</style>\n",
       "<table border=\"1\" class=\"dataframe\">\n",
       "  <thead>\n",
       "    <tr style=\"text-align: right;\">\n",
       "      <th></th>\n",
       "      <th>Sensor_1</th>\n",
       "      <th>Sensor_2</th>\n",
       "      <th>Sensor_3</th>\n",
       "      <th>Sensor_4</th>\n",
       "      <th>Status</th>\n",
       "    </tr>\n",
       "  </thead>\n",
       "  <tbody>\n",
       "    <tr>\n",
       "      <th>0</th>\n",
       "      <td>14.161</td>\n",
       "      <td>14.255</td>\n",
       "      <td>13.657</td>\n",
       "      <td>58.989</td>\n",
       "      <td>Yellow</td>\n",
       "    </tr>\n",
       "    <tr>\n",
       "      <th>1</th>\n",
       "      <td>21.341</td>\n",
       "      <td>20.094</td>\n",
       "      <td>14.489</td>\n",
       "      <td>70.697</td>\n",
       "      <td>Red</td>\n",
       "    </tr>\n",
       "    <tr>\n",
       "      <th>2</th>\n",
       "      <td>21.674</td>\n",
       "      <td>20.433</td>\n",
       "      <td>13.804</td>\n",
       "      <td>69.272</td>\n",
       "      <td>Green</td>\n",
       "    </tr>\n",
       "    <tr>\n",
       "      <th>3</th>\n",
       "      <td>15.834</td>\n",
       "      <td>15.591</td>\n",
       "      <td>18.119</td>\n",
       "      <td>75.727</td>\n",
       "      <td>Red</td>\n",
       "    </tr>\n",
       "    <tr>\n",
       "      <th>4</th>\n",
       "      <td>12.898</td>\n",
       "      <td>13.186</td>\n",
       "      <td>8.127</td>\n",
       "      <td>42.537</td>\n",
       "      <td>Red</td>\n",
       "    </tr>\n",
       "  </tbody>\n",
       "</table>\n",
       "</div>"
      ],
      "text/plain": [
       "   Sensor_1  Sensor_2  Sensor_3  Sensor_4  Status\n",
       "0    14.161    14.255    13.657    58.989  Yellow\n",
       "1    21.341    20.094    14.489    70.697     Red\n",
       "2    21.674    20.433    13.804    69.272   Green\n",
       "3    15.834    15.591    18.119    75.727     Red\n",
       "4    12.898    13.186     8.127    42.537     Red"
      ]
     },
     "execution_count": 85,
     "metadata": {},
     "output_type": "execute_result"
    }
   ],
   "source": [
    "#import data\n",
    "df = pd.read_csv(\"sensors_train.csv\")\n",
    "\n",
    "x_train = df[[\"Sensor_1\",\"Sensor_2\",\"Sensor_3\",\"Sensor_4\"]]\n",
    "y_train = df[[\"Status\"]]\n",
    "df.head()"
   ]
  },
  {
   "cell_type": "code",
   "execution_count": 86,
   "id": "b0f49321",
   "metadata": {},
   "outputs": [
    {
     "data": {
      "text/html": [
       "<div>\n",
       "<style scoped>\n",
       "    .dataframe tbody tr th:only-of-type {\n",
       "        vertical-align: middle;\n",
       "    }\n",
       "\n",
       "    .dataframe tbody tr th {\n",
       "        vertical-align: top;\n",
       "    }\n",
       "\n",
       "    .dataframe thead th {\n",
       "        text-align: right;\n",
       "    }\n",
       "</style>\n",
       "<table border=\"1\" class=\"dataframe\">\n",
       "  <thead>\n",
       "    <tr style=\"text-align: right;\">\n",
       "      <th></th>\n",
       "      <th>Sensor_1</th>\n",
       "      <th>Sensor_2</th>\n",
       "      <th>Sensor_3</th>\n",
       "      <th>Sensor_4</th>\n",
       "      <th>Status</th>\n",
       "    </tr>\n",
       "  </thead>\n",
       "  <tbody>\n",
       "    <tr>\n",
       "      <th>0</th>\n",
       "      <td>15.032</td>\n",
       "      <td>14.914</td>\n",
       "      <td>10.720</td>\n",
       "      <td>53.631</td>\n",
       "      <td>Red</td>\n",
       "    </tr>\n",
       "    <tr>\n",
       "      <th>1</th>\n",
       "      <td>24.523</td>\n",
       "      <td>22.736</td>\n",
       "      <td>17.234</td>\n",
       "      <td>87.234</td>\n",
       "      <td>Green</td>\n",
       "    </tr>\n",
       "    <tr>\n",
       "      <th>2</th>\n",
       "      <td>10.902</td>\n",
       "      <td>11.672</td>\n",
       "      <td>9.285</td>\n",
       "      <td>42.817</td>\n",
       "      <td>Red</td>\n",
       "    </tr>\n",
       "    <tr>\n",
       "      <th>3</th>\n",
       "      <td>29.898</td>\n",
       "      <td>26.869</td>\n",
       "      <td>5.843</td>\n",
       "      <td>56.183</td>\n",
       "      <td>Green</td>\n",
       "    </tr>\n",
       "    <tr>\n",
       "      <th>4</th>\n",
       "      <td>18.379</td>\n",
       "      <td>17.732</td>\n",
       "      <td>9.397</td>\n",
       "      <td>49.869</td>\n",
       "      <td>Red</td>\n",
       "    </tr>\n",
       "  </tbody>\n",
       "</table>\n",
       "</div>"
      ],
      "text/plain": [
       "   Sensor_1  Sensor_2  Sensor_3  Sensor_4 Status\n",
       "0    15.032    14.914    10.720    53.631    Red\n",
       "1    24.523    22.736    17.234    87.234  Green\n",
       "2    10.902    11.672     9.285    42.817    Red\n",
       "3    29.898    26.869     5.843    56.183  Green\n",
       "4    18.379    17.732     9.397    49.869    Red"
      ]
     },
     "execution_count": 86,
     "metadata": {},
     "output_type": "execute_result"
    }
   ],
   "source": [
    "df2 = pd.read_csv(\"sensors_test.csv\")\n",
    "\n",
    "x_test= df2[[\"Sensor_1\",\"Sensor_2\",\"Sensor_3\",\"Sensor_4\"]]\n",
    "y_test = df2[[\"Status\"]]\n",
    "df2.head(5)\n",
    "#df2.sort_values(by = 'Sensor_1',ascending = False)"
   ]
  },
  {
   "cell_type": "code",
   "execution_count": 87,
   "id": "d2639ce0",
   "metadata": {},
   "outputs": [
    {
     "name": "stdout",
     "output_type": "stream",
     "text": [
      "training Acc: 0.88625\n",
      "testing Acc: 0.6125\n"
     ]
    }
   ],
   "source": [
    "#training Accuracy score\n",
    "model = DecisionTreeClassifier(max_depth=15, random_state=42)\n",
    "model.fit(x_train, y_train)\n",
    "trainingAcc = model.score(x_train, y_train)\n",
    "testingAcc = model.score(x_test,y_test)\n",
    "print(\"training Acc:\", trainingAcc)\n",
    "print(\"testing Acc:\", testingAcc)"
   ]
  },
  {
   "cell_type": "code",
   "execution_count": 88,
   "id": "784f0996",
   "metadata": {},
   "outputs": [
    {
     "data": {
      "text/plain": [
       "array([0.43061892, 0.12836297, 0.27171336, 0.16930475])"
      ]
     },
     "execution_count": 88,
     "metadata": {},
     "output_type": "execute_result"
    }
   ],
   "source": [
    "model.feature_importances_"
   ]
  },
  {
   "cell_type": "code",
   "execution_count": 89,
   "id": "64c216c2",
   "metadata": {
    "scrolled": true
   },
   "outputs": [
    {
     "data": {
      "text/plain": [
       "Text(0.5, 0, 'max_depth')"
      ]
     },
     "execution_count": 89,
     "metadata": {},
     "output_type": "execute_result"
    },
    {
     "data": {
      "image/png": "[encoded data removed]",
      "text/plain": [
       "<Figure size 432x288 with 1 Axes>"
      ]
     },
     "metadata": {
      "needs_background": "light"
     },
     "output_type": "display_data"
    }
   ],
   "source": [
    "scores = []\n",
    "for depth in range(1, 21):\n",
    "    dtree = DecisionTreeClassifier(max_depth=depth, random_state=42)\n",
    "    scores.append(cross_val_score(dtree, x_train, y_train, cv=5).mean())\n",
    "    \n",
    "S = pd.Series(scores, index = range(1,21))\n",
    "ax = S.plot(style = 'o-', grid=True)\n",
    "ax.set_ylabel('CV scores')\n",
    "ax.set_xlabel('max_depth')\n"
   ]
  },
  {
   "cell_type": "code",
   "execution_count": 90,
   "id": "30ea2c81",
   "metadata": {},
   "outputs": [
    {
     "name": "stdout",
     "output_type": "stream",
     "text": [
      "Best max_depth =  2\n"
     ]
    }
   ],
   "source": [
    "best_depth = S.idxmax()\n",
    "print('Best max_depth = ', best_depth )"
   ]
  },
  {
   "cell_type": "code",
   "execution_count": 91,
   "id": "323f45e6",
   "metadata": {},
   "outputs": [
    {
     "name": "stdout",
     "output_type": "stream",
     "text": [
      "training Acc: 0.706875\n",
      "testing Acc: 0.7125\n"
     ]
    }
   ],
   "source": [
    "# retrain the data using maxDepth =2\n",
    "model = DecisionTreeClassifier(max_depth=2, random_state=42)\n",
    "model.fit(x_train, y_train)\n",
    "trainingAcc = model.score(x_train, y_train)\n",
    "testingAcc = model.score(x_test,y_test)\n",
    "print(\"training Acc:\", trainingAcc)\n",
    "print(\"testing Acc:\", testingAcc)"
   ]
  },
  {
   "cell_type": "code",
   "execution_count": 92,
   "id": "a75d460a",
   "metadata": {},
   "outputs": [],
   "source": [
    "df_train = pd.read_csv('sensors_train.csv')\n",
    "df_test = pd.read_csv('sensors_test.csv')\n",
    "Xr_train = df_train.loc[:,['Sensor_1','Sensor_2', 'Sensor_3']]\n",
    "yr_train = df_train['Sensor_4']\n"
   ]
  },
  {
   "cell_type": "code",
   "execution_count": 93,
   "id": "e3d17454",
   "metadata": {},
   "outputs": [
    {
     "data": {
      "text/plain": [
       "array([ 2.141181  , -1.17779325,  3.00670267])"
      ]
     },
     "execution_count": 93,
     "metadata": {},
     "output_type": "execute_result"
    }
   ],
   "source": [
    "lin_model = LinearRegression()\n",
    "lin_model.fit(Xr_train, yr_train)\n",
    "#lin_model.intercept_\n",
    "lin_model.coef_\n"
   ]
  },
  {
   "cell_type": "code",
   "execution_count": 94,
   "id": "f5e77b0b",
   "metadata": {},
   "outputs": [
    {
     "data": {
      "text/plain": [
       "0.9597076468309549"
      ]
     },
     "execution_count": 94,
     "metadata": {},
     "output_type": "execute_result"
    }
   ],
   "source": [
    "lin_model.score(Xr_train,yr_train)"
   ]
  },
  {
   "cell_type": "code",
   "execution_count": null,
   "id": "f28c7773",
   "metadata": {},
   "outputs": [],
   "source": []
  }
 ],
 "metadata": {
  "kernelspec": {
   "display_name": "Python 3 (ipykernel)",
   "language": "python",
   "name": "python3"
  },
  "language_info": {
   "codemirror_mode": {
    "name": "ipython",
    "version": 3
   },
   "file_extension": ".py",
   "mimetype": "text/x-python",
   "name": "python",
   "nbconvert_exporter": "python",
   "pygments_lexer": "ipython3",
   "version": "3.9.6"
  }
 },
 "nbformat": 4,
 "nbformat_minor": 5
}
