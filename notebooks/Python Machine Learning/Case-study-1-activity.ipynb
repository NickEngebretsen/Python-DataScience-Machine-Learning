{
 "cells": [
  {
   "cell_type": "markdown",
   "metadata": {},
   "source": [
    "# Case Study 1: Clustering\n",
    "## ECE 204 Data Science & Engineering"
   ]
  },
  {
   "cell_type": "markdown",
   "metadata": {},
   "source": [
    "### Lecture Notes"
   ]
  },
  {
   "cell_type": "code",
   "execution_count": null,
   "metadata": {},
   "outputs": [],
   "source": []
  },
  {
   "cell_type": "markdown",
   "metadata": {},
   "source": [
    "### In-Class Activity\n",
    "#### Please first read the questions in the in-class activity, where the questions are there in detail. This is just a starter notebook."
   ]
  },
  {
   "cell_type": "markdown",
   "metadata": {},
   "source": [
    "---\n",
    "**Problem 1.** How many clusters are there in the dataset created by make_blobs?"
   ]
  },
  {
   "cell_type": "code",
   "execution_count": null,
   "metadata": {},
   "outputs": [],
   "source": [
    "from sklearn.datasets import make_blobs\n",
    "### Add additional import statements here ###\n",
    "\n",
    "X, _ = make_blobs(\n",
    "    n_samples=1500,\n",
    "    random_state=170,\n",
    ")\n",
    "df = pd.DataFrame(X, columns=[\"x\", \"y\"])\n",
    "df.head(n=2)"
   ]
  },
  {
   "cell_type": "code",
   "execution_count": null,
   "metadata": {},
   "outputs": [],
   "source": [
    "## Your code here -- plot the data. How many clusters are there?\n"
   ]
  },
  {
   "cell_type": "markdown",
   "metadata": {},
   "source": [
    "**Problem 2.** How does KMeans cluster dataset above when n_clusters is mis-specified?"
   ]
  },
  {
   "cell_type": "code",
   "execution_count": null,
   "metadata": {},
   "outputs": [],
   "source": [
    "## Your code here -- specify 2 clusters in KMeans, and visualize the results\n",
    "# What two clusters are mis-clustered as the same cluster?\n"
   ]
  },
  {
   "cell_type": "markdown",
   "metadata": {},
   "source": [
    "This makes sense because the clusters that have the same mean for one variable are closer together. `KMeans` clusters these two together because they are closer than the third cluster."
   ]
  },
  {
   "cell_type": "markdown",
   "metadata": {},
   "source": [
    "**Problem 3.** Run KMeans on the provided data set below, making sure to specify the number of clusters in a way that matches the data set well."
   ]
  },
  {
   "cell_type": "markdown",
   "metadata": {},
   "source": [
    "`KMeans` certainly depends on the *data position.*\n",
    "\n",
    "How does `KMeans` depend on the *data shape*?"
   ]
  },
  {
   "cell_type": "code",
   "execution_count": null,
   "metadata": {},
   "outputs": [],
   "source": [
    "### Add additional import statements here ###\n",
    "\n",
    "X, y = make_blobs(n_samples=1500, random_state=170)\n",
    "transformation = [[0.60834549, -0.63667341], [-0.40887718, 0.85253229]]\n",
    "X = np.dot(X, transformation)\n",
    "df = pd.DataFrame(X, columns=[\"x\", \"y\"])\n",
    "df.head(n=2)"
   ]
  },
  {
   "cell_type": "code",
   "execution_count": null,
   "metadata": {},
   "outputs": [],
   "source": [
    "# Your code here -- plot the data. What does the data look like?\n"
   ]
  },
  {
   "cell_type": "markdown",
   "metadata": {},
   "source": [
    "Notice that the clusters in this case are not radially symmetric.. Let's try KMeans again with `n_clusters` specified to match the number of clusters in your plot and see what happens."
   ]
  },
  {
   "cell_type": "code",
   "execution_count": null,
   "metadata": {},
   "outputs": [],
   "source": [
    "## Your code here -- specify your clusters in the `y_pred` variable below. What does the clustering do?\n",
    "\n",
    "# define y_pred, which should be the cluster labels\n",
    "y_pred = "
   ]
  },
  {
   "cell_type": "code",
   "execution_count": null,
   "metadata": {},
   "outputs": [],
   "source": [
    "df = pd.DataFrame(X, columns=[\"x\", \"y\"])\n",
    "df[\"predicted\"] = y_pred\n",
    "df.plot.scatter(x=\"x\", y=\"y\", c=\"predicted\",\n",
    "                cmap=\"viridis\", colorbar=False)"
   ]
  },
  {
   "cell_type": "markdown",
   "metadata": {},
   "source": [
    "What is `KMeans` trying to do?"
   ]
  },
  {
   "cell_type": "markdown",
   "metadata": {},
   "source": [
    "**Problem 4.** Plot the data set provided below to determine the number of clusters to use with KMeans. Next, cluster the data set with the initialization provided. How well did KMeans cluster the data set?"
   ]
  },
  {
   "cell_type": "code",
   "execution_count": null,
   "metadata": {},
   "outputs": [],
   "source": [
    "X, y = make_blobs(n_samples=1500, random_state=173)\n",
    "df = pd.DataFrame(X, columns=[\"x\", \"y\"])\n",
    "df.head(n=2)"
   ]
  },
  {
   "cell_type": "code",
   "execution_count": null,
   "metadata": {},
   "outputs": [],
   "source": [
    "# Your code here -- plot the data. What does the data look like?\n"
   ]
  },
  {
   "cell_type": "code",
   "execution_count": null,
   "metadata": {},
   "outputs": [],
   "source": [
    "# define the number of clusters to use for KMeans. Be sure to choose a number that\n",
    "# matches the data set well\n",
    "n_clusters =\n",
    "\n",
    "km = KMeans(n_clusters=n_clusters, n_init=1, init=np.array([[0, 0], [0, 0], [-1, 0]]))\n",
    "\n",
    "y_pred = "
   ]
  },
  {
   "cell_type": "code",
   "execution_count": null,
   "metadata": {},
   "outputs": [],
   "source": [
    "df = pd.DataFrame(X, columns=[\"x\", \"y\"])\n",
    "df.plot.scatter(x=\"x\", y=\"y\", c=y_pred,\n",
    "                cmap=\"viridis\", colorbar=False)"
   ]
  }
 ],
 "metadata": {
  "kernelspec": {
   "display_name": "Python 3",
   "language": "python",
   "name": "python3"
  },
  "language_info": {
   "codemirror_mode": {
    "name": "ipython",
    "version": 3
   },
   "file_extension": ".py",
   "mimetype": "text/x-python",
   "name": "python",
   "nbconvert_exporter": "python",
   "pygments_lexer": "ipython3",
   "version": "3.8.5"
  }
 },
 "nbformat": 4,
 "nbformat_minor": 4
}
