{
 "cells": [
  {
   "cell_type": "markdown",
   "metadata": {},
   "source": [
    "# Case Study 9 - Autoregression\n",
    "## ECE204 Data Science & Engineering"
   ]
  },
  {
   "cell_type": "code",
   "execution_count": null,
   "metadata": {},
   "outputs": [],
   "source": [
    "import pandas as pd\n",
    "import numpy as np"
   ]
  },
  {
   "cell_type": "markdown",
   "metadata": {},
   "source": [
    "## Reading the Data"
   ]
  },
  {
   "cell_type": "markdown",
   "metadata": {},
   "source": [
    "Let's look at a dataset that describes the minimum daily temperatures over 10 years (1981-1990) in the city of Melbourne, Australia.\n",
    "\n",
    "The units are in degrees Celsius and there are 3,650 observations. The source of the data is the Australian Bureau of Meteorology.\n",
    "\n",
    "Note: This dataset ignores a day in leap years for consistent number of observations (365) in each year."
   ]
  },
  {
   "cell_type": "code",
   "execution_count": null,
   "metadata": {},
   "outputs": [],
   "source": [
    "df  = pd.read_csv(\"daily-min-temp-melb.csv\", index_col=0, parse_dates=True) \n",
    "df.head()"
   ]
  },
  {
   "cell_type": "code",
   "execution_count": null,
   "metadata": {},
   "outputs": [],
   "source": [
    "# fill in missing values\n",
    "idx = pd.date_range('1981-01-01', '1990-12-31')\n",
    "df = df.reindex(idx)\n",
    "df.fillna(method='backfill',inplace=True)"
   ]
  },
  {
   "cell_type": "markdown",
   "metadata": {},
   "source": [
    "## Visualizing Data"
   ]
  },
  {
   "cell_type": "markdown",
   "metadata": {},
   "source": [
    "Let's visualize what the minimum daily temperature data looks like. Alongside with it, we also plot the rolling mean to smooth out variations in each 365-day window. <br>\n",
    "\n",
    "**NOTE:** The rolling mean appears to start high and then stabilize after about 365 days because in the first year, it just averages the observations it does have in that window ($\\leq$365). This makes the rolling mean higher for that period since the temperates are higher early on."
   ]
  },
  {
   "cell_type": "code",
   "execution_count": null,
   "metadata": {},
   "outputs": [],
   "source": [
    "# Plotting the original data and the 365 day rolling mean\n",
    "ax = df.plot(figsize=(12,5));\n",
    "\n",
    "df.min_temp.rolling(\"365d\").mean().plot(ax=ax, label='rolling mean 365 days')\n",
    "#df.min_temp.rolling(\"7d\").mean().plot(ax=ax, label='rolling mean 7 days')\n",
    "ax.set_ylabel(\"Minimum Temperature\")\n",
    "ax.set_xlabel(\"Date\")\n",
    "ax.legend();"
   ]
  },
  {
   "cell_type": "markdown",
   "metadata": {},
   "source": [
    "Autoregression relies on the relationship between a value at a particular time step (say, t), and the values at earlier time steps (t-1, t-2, and so on) or **lags**. Using a lag plot, we can visualize how the previous time step relates with the current one."
   ]
  },
  {
   "cell_type": "code",
   "execution_count": null,
   "metadata": {},
   "outputs": [],
   "source": [
    "from pandas.plotting import lag_plot\n",
    "\n",
    "# Visualizing the lag plot.\n",
    "# By default lag=1\n",
    "lag_plot(df.min_temp, alpha=0.2);"
   ]
  },
  {
   "cell_type": "markdown",
   "metadata": {},
   "source": [
    "We can visualize lag plot at higher lags as well!"
   ]
  },
  {
   "cell_type": "code",
   "execution_count": null,
   "metadata": {},
   "outputs": [],
   "source": [
    "lag_plot(df.min_temp, lag=2, alpha=0.2);"
   ]
  },
  {
   "cell_type": "code",
   "execution_count": null,
   "metadata": {},
   "outputs": [],
   "source": [
    "lag_plot(df.min_temp, lag=365, alpha=0.2);"
   ]
  },
  {
   "cell_type": "markdown",
   "metadata": {},
   "source": [
    "We see that while the lag plot at lag=1 does indicate a somewhat linear relationship between minimum temperature values at time steps t, and t-1 (or alternatively at t+1 and t, whichever way you want to look at it!). However, this relation becomes weaker as lags increase."
   ]
  },
  {
   "cell_type": "markdown",
   "metadata": {},
   "source": [
    "## Autoregression Model"
   ]
  },
  {
   "cell_type": "markdown",
   "metadata": {},
   "source": [
    "We will now use a simple Autoregression model for the task of forecasting ahead.\n",
    "We have minimum-temperature data for 10 years, so let's say we want to predict the last 7 days of this 10-year period using the other observations before it (3650-7 = 3643)"
   ]
  },
  {
   "cell_type": "code",
   "execution_count": null,
   "metadata": {},
   "outputs": [],
   "source": [
    "# Defining the train set, all days but the last 7: 1981-01-01 to 1990-12-24\n",
    "dftrain = df.loc[:'1990-12-24']\n",
    "dftrain.tail()"
   ]
  },
  {
   "cell_type": "code",
   "execution_count": null,
   "metadata": {},
   "outputs": [],
   "source": [
    "# The test set: The last 7 days: 1990-12-25 to 1990-12-31\n",
    "dftest = df.loc['1990-12-25':].copy()\n",
    "dftest"
   ]
  },
  {
   "cell_type": "markdown",
   "metadata": {},
   "source": [
    "**Note:** The `statsmodels` library has autoregression models, but the syntax is slightly different from that of `sklearn` . In particular, while defining the model object, we pass in the time-series we want to forecast in addition to the`lags` argument."
   ]
  },
  {
   "cell_type": "code",
   "execution_count": null,
   "metadata": {},
   "outputs": [],
   "source": [
    "from statsmodels.tsa.ar_model import AutoReg\n",
    "#from datetime import datetime\n",
    "\n",
    "model = AutoReg(dftrain.min_temp, lags = 180)\n",
    "model_fit = model.fit()\n",
    "\n",
    "print('Lag: %s' % model_fit.ar_lags)\n",
    "print('Coefficients: %s' % model_fit.params)\n",
    "\n",
    "yhat = model_fit.predict(start='1990-12-25', end='1990-12-31')"
   ]
  },
  {
   "cell_type": "markdown",
   "metadata": {},
   "source": [
    "### Visualizing our predictions"
   ]
  },
  {
   "cell_type": "code",
   "execution_count": null,
   "metadata": {},
   "outputs": [],
   "source": [
    "# add predictions to the test dataframe\n",
    "dftest[\"predictions\"] = yhat\n",
    "\n",
    "ax = dftest.min_temp.plot(marker='o', label=\"True minimum Temperature\")\n",
    "dftest.predictions.plot(ax=ax, marker='o', label='AR Predictions');\n",
    "ax.legend();"
   ]
  },
  {
   "cell_type": "markdown",
   "metadata": {},
   "source": [
    "We can now check if our predictions improve if we consider more time lags of observations for Autoregression. (Check by setting maxlag=2, 3, 365 etc.)"
   ]
  }
 ],
 "metadata": {
  "kernelspec": {
   "display_name": "Python 3",
   "language": "python",
   "name": "python3"
  },
  "language_info": {
   "codemirror_mode": {
    "name": "ipython",
    "version": 3
   },
   "file_extension": ".py",
   "mimetype": "text/x-python",
   "name": "python",
   "nbconvert_exporter": "python",
   "pygments_lexer": "ipython3",
   "version": "3.7.6"
  }
 },
 "nbformat": 4,
 "nbformat_minor": 4
}
