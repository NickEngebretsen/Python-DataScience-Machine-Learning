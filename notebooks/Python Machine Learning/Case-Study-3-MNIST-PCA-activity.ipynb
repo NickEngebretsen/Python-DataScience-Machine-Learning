{
 "cells": [
  {
   "cell_type": "markdown",
   "metadata": {},
   "source": [
    "# Case Study 3: PCA with MNIST\n",
    "## ECE204 Data Science & Engineering"
   ]
  },
  {
   "cell_type": "markdown",
   "metadata": {},
   "source": [
    "### Lecture Notes"
   ]
  },
  {
   "cell_type": "code",
   "execution_count": null,
   "metadata": {},
   "outputs": [],
   "source": []
  },
  {
   "cell_type": "markdown",
   "metadata": {},
   "source": [
    "### In-Class Activity\n",
    "#### Please first read the questions in the in-class activity, where the questions are there in detail. This is just a starter notebook."
   ]
  },
  {
   "cell_type": "markdown",
   "metadata": {},
   "source": [
    "#### Import Statements"
   ]
  },
  {
   "cell_type": "code",
   "execution_count": 1,
   "metadata": {},
   "outputs": [],
   "source": [
    "import numpy as np\n",
    "from sklearn.cluster import KMeans\n",
    "from sklearn.decomposition import PCA\n",
    "\n",
    "# Add any other import statements you may need here!"
   ]
  },
  {
   "cell_type": "markdown",
   "metadata": {},
   "source": [
    "---\n",
    "**Problem 1.** **How do the reconstructed images `X_est` look with two dimensions, i.e. with `n_components=2`**?\n",
    "\n",
    "`NOTE:` Go up to the section in the case study notebook from lecture where we visualized reconstructed images, and run the relevant code with `n_components=2`."
   ]
  },
  {
   "cell_type": "code",
   "execution_count": null,
   "metadata": {},
   "outputs": [],
   "source": []
  },
  {
   "cell_type": "markdown",
   "metadata": {},
   "source": [
    "---\n",
    "**Problem 2.** **How much variance is explained by PCA with `n_components=2`?**\n",
    "\n",
    "`NOTE:` Round your result to 3 places after the decimal"
   ]
  },
  {
   "cell_type": "code",
   "execution_count": null,
   "metadata": {},
   "outputs": [],
   "source": []
  },
  {
   "cell_type": "markdown",
   "metadata": {},
   "source": [
    "---\n",
    "**Problem 3.**\n",
    "Code has been provided (below) that computes a 2-dimensional approximation to MNIST using PCA. Apply K-Means clustering to the transformed dataset, using 10 clusters. A visualization is then created that shows which cluster each point (MNIST digit) belongs to using K-Means.\n",
    "\n",
    "**How are the KMeans clustering labels separated?** \n",
    "\n",
    "**How are the actual labels separated?**"
   ]
  },
  {
   "cell_type": "code",
   "execution_count": null,
   "metadata": {},
   "outputs": [],
   "source": [
    "data = np.load(\"mnist.npz\")\n",
    "X = data[\"X\"]\n",
    "actual_labels = data[\"y\"]\n",
    "\n",
    "X_low = PCA(n_components=2).fit_transform(X)\n",
    "labels_hat = # Complete this line"
   ]
  },
  {
   "cell_type": "code",
   "execution_count": null,
   "metadata": {},
   "outputs": [],
   "source": [
    "show = pd.DataFrame(X_low)\n",
    "show.plot.scatter(x=0, y=1, style=\"o\", c=labels_hat, cmap=\"tab10\", s=2)"
   ]
  }
 ],
 "metadata": {
  "kernelspec": {
   "display_name": "Python 3",
   "language": "python",
   "name": "python3"
  },
  "language_info": {
   "codemirror_mode": {
    "name": "ipython",
    "version": 3
   },
   "file_extension": ".py",
   "mimetype": "text/x-python",
   "name": "python",
   "nbconvert_exporter": "python",
   "pygments_lexer": "ipython3",
   "version": "3.8.5"
  }
 },
 "nbformat": 4,
 "nbformat_minor": 4
}
