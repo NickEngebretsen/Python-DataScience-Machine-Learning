{
 "cells": [
  {
   "cell_type": "markdown",
   "metadata": {},
   "source": [
    "# Homework 8\n",
    "## ECE204 Data Science & Engineering"
   ]
  },
  {
   "cell_type": "markdown",
   "metadata": {},
   "source": [
    "*Note: this notebook contains some example code. Unless explicitly mentioned, do not change this code.*"
   ]
  },
  {
   "cell_type": "markdown",
   "metadata": {},
   "source": [
    "*Warning: this notebook reuses certain variable names, which can cause conflict. They're found in multiple questions. If you have any difficulty, please restart your kernel in the menu above.*"
   ]
  },
  {
   "cell_type": "markdown",
   "metadata": {},
   "source": [
    "# Multiple Regression\n",
    "\n",
    "The following few questions deal with the Energy Efficiency dataset `energy_data.csv`. In particular, the questions deal with using Multiple Regression for predicting the reponse given a certain set of features. <br>\n",
    "\n",
    "The dataset contains 8 features/attributes. Specifically: \n",
    "- X1: Relative Compactness \n",
    "- X2: Surface Area \n",
    "- X3: Wall Area \n",
    "- X4: Roof Area \n",
    "- X5: Overall Height \n",
    "- X6: Orientation \n",
    "- X7: Glazing Area \n",
    "- X8: Glazing Area Distribution\n",
    "\n",
    "It contains two target variables or responses:\n",
    "- Y1: Heating Load \n",
    "- Y2: Cooling Load\n",
    "\n",
    "If you are interested, more details about this dataset can be found here: http://archive.ics.uci.edu/ml/datasets/energy+efficiency"
   ]
  },
  {
   "cell_type": "markdown",
   "metadata": {},
   "source": [
    "### Import Statements"
   ]
  },
  {
   "cell_type": "code",
   "execution_count": null,
   "metadata": {},
   "outputs": [],
   "source": [
    "# Add any import statements you need to complete this homework here!\n",
    "from sklearn.model_selection import train_test_split\n",
    "from sklearn.preprocessing import PolynomialFeatures\n",
    "\n",
    "\n"
   ]
  },
  {
   "cell_type": "markdown",
   "metadata": {},
   "source": [
    "---\n",
    "**Problem 1.**\n",
    "Import the energy efficiency dataset from `energy_data.csv`. Fit a multiple linear regression model using all 8 features `X1`, ..., `X8` and the target `Y2` (Cooling Load).\n",
    "\n",
    "**What is the R-squared value of the model on the test dataset?**\n",
    "\n",
    "To fit the model, use the train dataset given. To find the R-squared value, use the test dataset given.\n",
    "\n",
    "*Hint:* The R-squared value (or R^2 value, or $R^2$ value) is available through [LinearRegression's score function][1].\n",
    "\n",
    "[1]:https://scikit-learn.org/stable/modules/generated/sklearn.linear_model.LinearRegression.html#sklearn.linear_model.LinearRegression.score"
   ]
  },
  {
   "cell_type": "code",
   "execution_count": null,
   "metadata": {},
   "outputs": [],
   "source": [
    "# Code already provided\n",
    "df = pd.read_csv('energy_data.csv')\n",
    "\n",
    "features = ['X1', 'X2', 'X3', 'X4', 'X5', 'X6', 'X7', 'X8']\n",
    "target = 'Y2'\n",
    "\n",
    "X = df[features]\n",
    "y = df[target]\n",
    "\n",
    "X_train, X_test, y_train, y_test = train_test_split(X, y, test_size=0.15, random_state=42)"
   ]
  },
  {
   "cell_type": "code",
   "execution_count": null,
   "metadata": {},
   "outputs": [],
   "source": [
    "# Your code here\n"
   ]
  },
  {
   "cell_type": "markdown",
   "metadata": {},
   "source": [
    "---\n",
    "**Problem 2.**\n",
    "Import the energy efficiency dataset `energy_data.csv`. Use linear regression to predict the heating load (`Y1`). **What single feature (`X1`, ..., `X8`) best predicts the output (`Y1`) on the test dataset?** That is, call `fit` with a single feature from the train dataset and call `score` with the test dataset.\n",
    "\n",
    "*Hint:* Some example code is given to select a single feature from the train dataset. This code is only meant to be an illustration on a method to select a single feature. Fitting and scoring will work with this.\n",
    "\n",
    "*Hint:* The R-squared value is really good at describing how good a single feature predicts another. It can be found with the [LinearRegression's score function][1].\n",
    "\n",
    "[1]:https://scikit-learn.org/stable/modules/generated/sklearn.linear_model.LinearRegression.html#sklearn.linear_model.LinearRegression.score"
   ]
  },
  {
   "cell_type": "code",
   "execution_count": null,
   "metadata": {},
   "outputs": [],
   "source": [
    "# Code already provided\n",
    "df = pd.read_csv('energy_data.csv')\n",
    "\n",
    "features = ['X1', 'X2', 'X3', 'X4', 'X5', 'X6', 'X7', 'X8']\n",
    "target = 'Y1'\n",
    "\n",
    "X_train, X_test, y_train, y_test = train_test_split(df[features], df[target], random_state=42, test_size=0.15)"
   ]
  },
  {
   "cell_type": "code",
   "execution_count": null,
   "metadata": {},
   "outputs": [],
   "source": [
    "# Example code to get individual features from the train dataset\n",
    "# This cell can be deleted or changed; it's an example\n",
    "for feat in features:\n",
    "    X_feat_train = X_train[[feat]]"
   ]
  },
  {
   "cell_type": "code",
   "execution_count": null,
   "metadata": {},
   "outputs": [],
   "source": [
    "# Your code here\n"
   ]
  },
  {
   "cell_type": "markdown",
   "metadata": {},
   "source": [
    "Note that two of the features both have high R-squared values. However, in this dataset, using both columns provides no benefit (because those features are not indepedent, and one feature predicts the other).\n",
    "\n",
    "An illustrative example: if two columns are the same, no benefit is gained from predicting from both features because the columns contain (exactly) the same information."
   ]
  },
  {
   "cell_type": "markdown",
   "metadata": {},
   "source": [
    "---\n",
    "**Problem 3.**\n",
    "Import the energy efficiency dataset energy_data.csv. In this question, you will use a separate training and testing set. You have to train/fit a Multiple Regression model with *all* features (`X1`, ..., `X8`) and `Y2` (cooling load) as target using the training set, and evaluate it's performance on the testing set.\n",
    "\n",
    "Predict the values on the test dataset. Ideally, these should be very close to `y_test`. Plot the absolute error. With the given plotting code, **what is the height (aka frequency) of the first bar?** The first bar counts the number of errors that are within 0 and 0.6.\n",
    "\n",
    "* 10-14\n",
    "* 15-19\n",
    "* 20-24\n",
    "* 25-29\n",
    "* 35-39\n",
    "\n",
    "To answer this question, use the given train/test split. Fit the model on the training set and obtain the predictions on the testing set."
   ]
  },
  {
   "cell_type": "code",
   "execution_count": null,
   "metadata": {},
   "outputs": [],
   "source": [
    "# Code already provided\n",
    "df = pd.read_csv('energy_data.csv')\n",
    "\n",
    "features=['X1', 'X2', 'X3', 'X4', 'X5', 'X6', 'X7', 'X8']\n",
    "\n",
    "X = df[features]\n",
    "y = df['Y2']\n",
    "\n",
    "X_train, X_test, y_train, y_test = train_test_split(X, y, test_size=0.2, random_state=42)"
   ]
  },
  {
   "cell_type": "code",
   "execution_count": null,
   "metadata": {},
   "outputs": [],
   "source": [
    "# Your code here.\n"
   ]
  },
  {
   "cell_type": "code",
   "execution_count": null,
   "metadata": {},
   "outputs": [],
   "source": [
    "# Given code to plot. Define y_pred in the cell above from the test dataset\n",
    "error = np.abs(y_test - y_pred)\n",
    "error = pd.Series(error)\n",
    "error.plot.hist(bins=20, grid=True)"
   ]
  },
  {
   "cell_type": "markdown",
   "metadata": {},
   "source": [
    "---\n",
    "\n",
    "The next two questions will focus on the stock dataset. This dataset records the mean stock price over a given month for different companies. The companies (and the symbols representing them) are Microsoft (MSFT), Amazon (AMZN), IBM (IBM), Google (GOOG) and Apple (AAPL).\n"
   ]
  },
  {
   "cell_type": "markdown",
   "metadata": {},
   "source": [
    "This data is from Janurary 2000 to March 2011, including the financial crash of 2008:"
   ]
  },
  {
   "cell_type": "code",
   "execution_count": null,
   "metadata": {},
   "outputs": [],
   "source": [
    "df = pd.read_csv(\"./stocks.csv\")\n",
    "\n",
    "i = df.symbol == \"AAPL\"\n",
    "df[i].plot(x=\"fractional_year_after_2000\", y=\"price\", grid=True)"
   ]
  },
  {
   "cell_type": "markdown",
   "metadata": {},
   "source": [
    "The next two questions will play the role of a technology investor on August 1st, 2008. You will be trying to make a quality prediction on which stocks to buy.\n",
    "\n",
    "Apple stock looks promising because Steve Jobs announced the iPhone in Janurary 9th, 2007 and it arrived in the hands of consumers June 29th, 2007, both over a year earlier (and hence the very steep rise in late 2007).\n",
    "\n",
    "---\n",
    "**Problem 4.**\n",
    "This question will investigate how well a certain model performs. This model only uses historical stock prices to predict the future stock value. Specifically, let's fit a polynomial to historical stock values. The input to the polynomial is the date (as a fractional year after 2000) and the output is Apple's stock price.\n",
    "\n",
    "Fit a 10-degree polynomial to the train data (the features for this polynomial are given). **Does this data accurately predict Apple stock dip in early 2008?** This is before the big financial crash in late 2008. This stock dip happens in early 2008 where the stock price goes from 200 to 125 to 185 dollars in a span of several months. This dip is in the train data -- if the model can't predict this, it has no hope on future data (aka the test data).\n",
    "\n",
    "* Yes, very accurately.\n",
    "* No. However, it does predict the stock reaches it's lowest point ever recorded during the dip.\n",
    "* No, it predicts a stock price that's far lower than observed. However, it predicts that it's decreasing.\n",
    "* No, it predicts a stock price that's far higher than observed. However, it predicts that it's decreasing.\n",
    "* No. It actually predicts the stock reaches it's highest value ever recorded during the dip.\n",
    "\n",
    "*Hint:* plot the train data and predictions on the train data!\n",
    "\n",
    "*Gold star questions:* Try predicting on the test data. Does this prediction make any sense? Why not? How does this change as the `degree` of the polynomial is changed?"
   ]
  },
  {
   "cell_type": "code",
   "execution_count": null,
   "metadata": {},
   "outputs": [],
   "source": [
    "df = pd.read_csv(\"./stocks.csv\")\n",
    "\n",
    "# Defines the test data to be all stock prices after August 1st, 2008\n",
    "# The train data are all values before that\n",
    "# This matches the task this model will be used for: to predict *future* stock prices\n",
    "i = df.symbol == \"AAPL\"\n",
    "apple = df[i]\n",
    "\n",
    "idx_train = apple.fractional_year_after_2000 <= 8.6666\n",
    "idx_test = ~idx_train\n",
    "\n",
    "X_train = apple.loc[idx_train, [\"fractional_year_after_2000\"]]\n",
    "y_train = apple.loc[idx_train, \"price\"]\n",
    "\n",
    "X_test = apple.loc[idx_test, [\"fractional_year_after_2000\"]]\n",
    "y_test = apple.loc[idx_test, \"price\"]"
   ]
  },
  {
   "cell_type": "code",
   "execution_count": null,
   "metadata": {},
   "outputs": [],
   "source": [
    "# This cell creates polynomial features for a polynomial of degree 10\n",
    "transform = PolynomialFeatures(degree=10)\n",
    "\n",
    "X_train = transform.fit_transform(X_train)\n",
    "X_test = transform.fit_transform(X_test)"
   ]
  },
  {
   "cell_type": "code",
   "execution_count": null,
   "metadata": {},
   "outputs": [],
   "source": [
    "# Your code here.\n"
   ]
  },
  {
   "cell_type": "markdown",
   "metadata": {},
   "source": [
    "---\n",
    "**Problem 5.**\n",
    "Now, let's instead use other companies stock prices to predict Apple's stock price. That is, let's say > `aapl = c[0]*amzn + c[1]*goog + c[2]*ibm + c[3]*msft` on any given day for an array `c` that is constant throughout time. This does not take any historical stock prices into account, which is a massive oversight (aka, this model would lose money if used to buy stocks).\n",
    "\n",
    "**What is the smallest upper bound on absolute errors?** That is, what is the smallest value (from the options given) such that all absolute errors are smaller than that value? The error will be taken between `y_test` and the predicted value for `X_test`. The linear model should be trained on the train data, and the 2008 financial crisis (and recovery) is in the test data.\n",
    "\n",
    "*Hint:* plot the test data and prediction!\n",
    "\n",
    "Possible answers:\n",
    "\n",
    "* 20\n",
    "* 50\n",
    "* 75\n",
    "* 100\n",
    "* 150\n",
    "* 200\n",
    "\n",
    "*Gold star question:* What does this say about buying stocks? How would the features be modified to include historical numbers?"
   ]
  },
  {
   "cell_type": "code",
   "execution_count": null,
   "metadata": {},
   "outputs": [],
   "source": [
    "df = pd.read_csv(\"./stocks.csv\")"
   ]
  },
  {
   "cell_type": "code",
   "execution_count": null,
   "metadata": {},
   "outputs": [],
   "source": [
    "# Defines the test data to be all stock prices after August 1st, 2008\n",
    "dataset = df.pivot_table(columns=\"symbol\", index=\"fractional_year_after_2000\", values=\"price\")\n",
    "\n",
    "# Google didn't go public until August 2004.\n",
    "# The values are NaN before that. Let's fill those values.\n",
    "dataset = dataset.fillna(value=0)\n",
    "\n",
    "# Define train and test sets to be all data before/after Aug. 2008\n",
    "train = dataset.index <= 8.666\n",
    "test = ~train\n",
    "\n",
    "combo_companies = [\"AMZN\", \"GOOG\", \"IBM\", \"MSFT\"]\n",
    "X_train = dataset.loc[train, combo_companies]\n",
    "y_train = dataset.loc[train, \"AAPL\"]\n",
    "\n",
    "X_test = dataset.loc[test, combo_companies]\n",
    "y_test = dataset.loc[test, \"AAPL\"]"
   ]
  },
  {
   "cell_type": "code",
   "execution_count": null,
   "metadata": {},
   "outputs": [],
   "source": [
    "# Your code here.\n"
   ]
  },
  {
   "cell_type": "markdown",
   "metadata": {},
   "source": [
    "Also, note that this dataset only includes the *monthly* average prices, not the prices detailed every minute or second. This is a different ball-game, especially with high-frequency trading."
   ]
  }
 ],
 "metadata": {
  "kernelspec": {
   "display_name": "Python 3",
   "language": "python",
   "name": "python3"
  },
  "language_info": {
   "codemirror_mode": {
    "name": "ipython",
    "version": 3
   },
   "file_extension": ".py",
   "mimetype": "text/x-python",
   "name": "python",
   "nbconvert_exporter": "python",
   "pygments_lexer": "ipython3",
   "version": "3.8.6"
  }
 },
 "nbformat": 4,
 "nbformat_minor": 4
}
