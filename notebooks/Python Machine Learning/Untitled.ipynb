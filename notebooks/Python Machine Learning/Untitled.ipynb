{
 "cells": [
  {
   "cell_type": "code",
   "execution_count": 25,
   "id": "853fb6c2",
   "metadata": {},
   "outputs": [
    {
     "name": "stdout",
     "output_type": "stream",
     "text": [
      "2588 2\n",
      "Index(['X', 'Y'], dtype='object')\n"
     ]
    }
   ],
   "source": [
    "import pandas as pd\n",
    "column_headers = [\"\"]\n",
    "df = pd.read_csv('wisconsin_cheese_factories.csv')\n",
    "df1 = pd.read_csv('wisconsin_boundary.csv', index_col = 0)\n",
    "length = len(df1)\n",
    "width = (len(df1.columns)) #subtract 1 for the the index using index_col\n",
    "\n",
    "print(length, width)  #length is rows, width is columns\n",
    "print(df1.columns)"
   ]
  },
  {
   "cell_type": "code",
   "execution_count": 56,
   "id": "7d359d43",
   "metadata": {},
   "outputs": [
    {
     "name": "stdout",
     "output_type": "stream",
     "text": [
      "219 4\n"
     ]
    },
    {
     "data": {
      "text/html": [
       "<div>\n",
       "<style scoped>\n",
       "    .dataframe tbody tr th:only-of-type {\n",
       "        vertical-align: middle;\n",
       "    }\n",
       "\n",
       "    .dataframe tbody tr th {\n",
       "        vertical-align: top;\n",
       "    }\n",
       "\n",
       "    .dataframe thead th {\n",
       "        text-align: right;\n",
       "    }\n",
       "</style>\n",
       "<table border=\"1\" class=\"dataframe\">\n",
       "  <thead>\n",
       "    <tr style=\"text-align: right;\">\n",
       "      <th></th>\n",
       "      <th>X coordinate</th>\n",
       "      <th>Y coordinate</th>\n",
       "      <th>Miles Away</th>\n",
       "    </tr>\n",
       "  </thead>\n",
       "  <tbody>\n",
       "    <tr>\n",
       "      <th>count</th>\n",
       "      <td>219.000000</td>\n",
       "      <td>219.000000</td>\n",
       "      <td>219.000000</td>\n",
       "    </tr>\n",
       "    <tr>\n",
       "      <th>mean</th>\n",
       "      <td>-89.740260</td>\n",
       "      <td>43.928484</td>\n",
       "      <td>6914.373872</td>\n",
       "    </tr>\n",
       "    <tr>\n",
       "      <th>std</th>\n",
       "      <td>1.285416</td>\n",
       "      <td>0.859837</td>\n",
       "      <td>89.377696</td>\n",
       "    </tr>\n",
       "    <tr>\n",
       "      <th>min</th>\n",
       "      <td>-92.697550</td>\n",
       "      <td>42.523330</td>\n",
       "      <td>6763.171045</td>\n",
       "    </tr>\n",
       "    <tr>\n",
       "      <th>25%</th>\n",
       "      <td>-90.477470</td>\n",
       "      <td>43.185605</td>\n",
       "      <td>6844.327301</td>\n",
       "    </tr>\n",
       "    <tr>\n",
       "      <th>50%</th>\n",
       "      <td>-89.807690</td>\n",
       "      <td>44.018310</td>\n",
       "      <td>6897.856612</td>\n",
       "    </tr>\n",
       "    <tr>\n",
       "      <th>75%</th>\n",
       "      <td>-88.606295</td>\n",
       "      <td>44.630270</td>\n",
       "      <td>6969.784160</td>\n",
       "    </tr>\n",
       "    <tr>\n",
       "      <th>max</th>\n",
       "      <td>-87.397610</td>\n",
       "      <td>46.013840</td>\n",
       "      <td>7147.029288</td>\n",
       "    </tr>\n",
       "  </tbody>\n",
       "</table>\n",
       "</div>"
      ],
      "text/plain": [
       "       X coordinate  Y coordinate   Miles Away\n",
       "count    219.000000    219.000000   219.000000\n",
       "mean     -89.740260     43.928484  6914.373872\n",
       "std        1.285416      0.859837    89.377696\n",
       "min      -92.697550     42.523330  6763.171045\n",
       "25%      -90.477470     43.185605  6844.327301\n",
       "50%      -89.807690     44.018310  6897.856612\n",
       "75%      -88.606295     44.630270  6969.784160\n",
       "max      -87.397610     46.013840  7147.029288"
      ]
     },
     "execution_count": 56,
     "metadata": {},
     "output_type": "execute_result"
    }
   ],
   "source": [
    "import pandas as pd\n",
    "import numpy as np\n",
    "column_headers = [ 'X coordinate', 'Y coordinate',\"name\" , 'address']\n",
    "df2 = pd.read_csv('wisconsin_cheese_factories.csv', names = column_headers)\n",
    "length = len(df2)\n",
    "width = (len(df2.columns)) \n",
    "print(length, width)\n",
    "    \n",
    "x = df2['X coordinate']\n",
    "xSq = x*x\n",
    "y = df2['Y coordinate']\n",
    "ySq = y*y\n",
    "addTo = xSq+ySq\n",
    "sqrt = np.sqrt(addTo)\n",
    "df2['Miles Away'] = 69.2*sqrt\n",
    "df2 = df2.sort_values(['Miles Away'], ascending = False)\n",
    "df2.describe()\n",
    "#df2.head()"
   ]
  },
  {
   "cell_type": "code",
   "execution_count": null,
   "id": "32db4eb1",
   "metadata": {},
   "outputs": [],
   "source": []
  }
 ],
 "metadata": {
  "kernelspec": {
   "display_name": "Python 3 (ipykernel)",
   "language": "python",
   "name": "python3"
  },
  "language_info": {
   "codemirror_mode": {
    "name": "ipython",
    "version": 3
   },
   "file_extension": ".py",
   "mimetype": "text/x-python",
   "name": "python",
   "nbconvert_exporter": "python",
   "pygments_lexer": "ipython3",
   "version": "3.9.6"
  }
 },
 "nbformat": 4,
 "nbformat_minor": 5
}
