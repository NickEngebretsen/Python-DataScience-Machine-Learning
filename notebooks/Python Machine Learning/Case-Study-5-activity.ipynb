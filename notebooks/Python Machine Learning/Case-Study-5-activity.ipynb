{
 "cells": [
  {
   "cell_type": "markdown",
   "metadata": {},
   "source": [
    "# **Decision Tree Classification using Python**\n",
    "## ECE 204 Data Science & Engineering"
   ]
  },
  {
   "cell_type": "markdown",
   "metadata": {},
   "source": [
    "### Lecture Notes"
   ]
  },
  {
   "cell_type": "code",
   "execution_count": null,
   "metadata": {},
   "outputs": [],
   "source": []
  },
  {
   "cell_type": "markdown",
   "metadata": {},
   "source": [
    "### Import Statements"
   ]
  },
  {
   "cell_type": "code",
   "execution_count": null,
   "metadata": {},
   "outputs": [],
   "source": [
    "# Add any import statements that you might need to complete the activity here!\n",
    "\n"
   ]
  },
  {
   "cell_type": "markdown",
   "metadata": {},
   "source": [
    "### In-Class Activity\n",
    "#### Please first read the questions in the in-class activity, where the questions are there in detail. This is just a starter notebook."
   ]
  },
  {
   "cell_type": "markdown",
   "metadata": {},
   "source": [
    "---\n",
    "**Problem 1.** Read the `blobs_train.csv` and `test_data.csv` dataset. Fit a DecisionTreeClassifier (`random_state = 1, max_depth=2`)  model on the training data. Predict on the testing data and plot the results. **What rules does the  decision tree learn for `feat1` and `feat2`? Choose the correct answer from the options**\n",
    "\n",
    "Please use the `cmap=\"viridis\"` as we have above."
   ]
  },
  {
   "cell_type": "code",
   "execution_count": null,
   "metadata": {},
   "outputs": [],
   "source": [
    "blobs_train = pd.read_csv(\"blobs_train.csv\")\n",
    "test_data = pd.read_csv(\"test_data.csv\")\n",
    "\n",
    "blobs_train.head()"
   ]
  },
  {
   "cell_type": "code",
   "execution_count": null,
   "metadata": {},
   "outputs": [],
   "source": [
    "# your code here\n"
   ]
  },
  {
   "cell_type": "markdown",
   "metadata": {},
   "source": [
    "**Problem 2.** Read the `moons_train.csv` and `test_data.csv` train and test data dataset. Fit a DecisionTreeClassifier (`random_state = 1, max_depth=10`)  model on the training data. Plot the training data, then predict on the testing data. \n",
    "\n",
    "**Now plot both the training data and testing data together and reason about the feature importance of the two features by looking at the plots.**\n",
    "**Find the feature importance from the classifier and choose the correct answer(s)**\n"
   ]
  },
  {
   "cell_type": "code",
   "execution_count": null,
   "metadata": {},
   "outputs": [],
   "source": [
    "moons_train = pd.read_csv(\"moons_train.csv\")\n",
    "test_data = pd.read_csv(\"test_data.csv\")\n",
    "\n",
    "moons_train.head()"
   ]
  },
  {
   "cell_type": "code",
   "execution_count": null,
   "metadata": {},
   "outputs": [],
   "source": [
    "# your code here\n"
   ]
  }
 ],
 "metadata": {
  "kernelspec": {
   "display_name": "Python 3",
   "language": "python",
   "name": "python3"
  },
  "language_info": {
   "codemirror_mode": {
    "name": "ipython",
    "version": 3
   },
   "file_extension": ".py",
   "mimetype": "text/x-python",
   "name": "python",
   "nbconvert_exporter": "python",
   "pygments_lexer": "ipython3",
   "version": "3.8.5"
  }
 },
 "nbformat": 4,
 "nbformat_minor": 4
}
