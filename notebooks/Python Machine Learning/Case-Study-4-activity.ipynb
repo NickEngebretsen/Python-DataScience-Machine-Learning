{
 "cells": [
  {
   "cell_type": "markdown",
   "metadata": {},
   "source": [
    "# **K-Nearest-Neighbor Classification**\n",
    "## ECE 204 Data Science & Engineering"
   ]
  },
  {
   "cell_type": "markdown",
   "metadata": {},
   "source": [
    "### Lecture Notes"
   ]
  },
  {
   "cell_type": "code",
   "execution_count": null,
   "metadata": {},
   "outputs": [],
   "source": []
  },
  {
   "cell_type": "markdown",
   "metadata": {},
   "source": [
    "### Import Statements"
   ]
  },
  {
   "cell_type": "code",
   "execution_count": null,
   "metadata": {},
   "outputs": [],
   "source": [
    "# Add any import statements that you might need to complete the activity here!\n",
    "\n"
   ]
  },
  {
   "cell_type": "markdown",
   "metadata": {},
   "source": [
    "### In-Class Activity\n",
    "#### Please first read the questions in the in-class activity, where the questions are there in detail. This is just a starter notebook."
   ]
  },
  {
   "cell_type": "code",
   "execution_count": null,
   "metadata": {},
   "outputs": [],
   "source": [
    "df = pd.read_csv(\"iris.csv\")\n",
    "df.sample(10)"
   ]
  },
  {
   "cell_type": "markdown",
   "metadata": {},
   "source": [
    "---\n",
    "**Problem 2.** This time, we will only use two of the features of the iris dataset. What accuracy do we obtain if we only use the `sepalWidth` and `sepalLength` features for classification and KNN with K=5?"
   ]
  },
  {
   "cell_type": "code",
   "execution_count": null,
   "metadata": {},
   "outputs": [],
   "source": [
    "features = ['petalLength', 'petalWidth', 'sepalLength', 'sepalWidth']\n",
    "Xtrain = \n",
    "Ytrain = "
   ]
  },
  {
   "cell_type": "code",
   "execution_count": null,
   "metadata": {},
   "outputs": [],
   "source": [
    "# 1.) Instatiate a KNN learning model\n",
    "knn = \n",
    "\n",
    "# 2.) Fit the model to Xtrain\n",
    "knn.fit()\n",
    "\n",
    "# 3.) Store the KNN predictions in Ypred\n",
    "Ypred = \n",
    "\n",
    "# 4.) Calculate accuracy (hint: you can do this manually or use sklearn)\n",
    "accuracy = \n",
    "print(\"The model accuracy is: \", accuracy)"
   ]
  },
  {
   "cell_type": "markdown",
   "metadata": {},
   "source": [
    "---\n",
    "**Problem 3.a.** Rather than using the same training and testing set, we will do the following:\n",
    "\n",
    "- Train using the even-numbered rows (index 0,2,4,...)\n",
    "- Test using the odd-numbered rows (index 1,3,5,...)\n",
    "\n",
    "When we do this with KNN (K = 5), what accuracy do we obtain? Please be sure to use all four features of the data set to answer this question."
   ]
  },
  {
   "cell_type": "code",
   "execution_count": null,
   "metadata": {},
   "outputs": [],
   "source": [
    "features = ['petalLength', 'petalWidth', 'sepalLength', 'sepalWidth']\n",
    "Xtrain = \n",
    "Ytrain = "
   ]
  },
  {
   "cell_type": "code",
   "execution_count": null,
   "metadata": {},
   "outputs": [],
   "source": [
    "# 1.) Instatiate a KNN learning model\n",
    "knn = \n",
    "\n",
    "# 2.) Fit the model to Xtrain\n",
    "knn.fit()\n",
    "\n",
    "# 3.) Store the KNN predictions in Ypred\n",
    "Ypred = \n",
    "\n",
    "# 4.) Calculate accuracy (hint: you can do this manually or use sklearn)\n",
    "accuracy = \n",
    "print(\"The model accuracy is: \", accuracy)"
   ]
  },
  {
   "cell_type": "markdown",
   "metadata": {},
   "source": [
    "**Problem 3.b.** Using the same training and testing data sets described in problem 3.a, what accuracy do you obtain when K = 1?"
   ]
  },
  {
   "cell_type": "code",
   "execution_count": null,
   "metadata": {},
   "outputs": [],
   "source": [
    "# 1.) Instatiate a KNN learning model\n",
    "knn = \n",
    "\n",
    "# 2.) Fit the model to Xtrain\n",
    "knn.fit()\n",
    "\n",
    "# 3.) Store the KNN predictions in Ypred\n",
    "Ypred = \n",
    "\n",
    "# 4.) Calculate accuracy (hint: you can do this manually or use sklearn)\n",
    "accuracy = \n",
    "print(\"The model accuracy is: \", accuracy)"
   ]
  }
 ],
 "metadata": {
  "kernelspec": {
   "display_name": "Python 3",
   "language": "python",
   "name": "python3"
  },
  "language_info": {
   "codemirror_mode": {
    "name": "ipython",
    "version": 3
   },
   "file_extension": ".py",
   "mimetype": "text/x-python",
   "name": "python",
   "nbconvert_exporter": "python",
   "pygments_lexer": "ipython3",
   "version": "3.8.5"
  }
 },
 "nbformat": 4,
 "nbformat_minor": 4
}
